{
 "cells": [
  {
   "cell_type": "code",
   "execution_count": 2,
   "id": "b6f041a5",
   "metadata": {
    "scrolled": true
   },
   "outputs": [
    {
     "name": "stdout",
     "output_type": "stream",
     "text": [
      "Requirement already satisfied: openai in c:\\users\\hp\\anaconda3\\lib\\site-packages (0.28.1)\n",
      "Requirement already satisfied: requests>=2.20 in c:\\users\\hp\\anaconda3\\lib\\site-packages (from openai) (2.31.0)\n",
      "Requirement already satisfied: tqdm in c:\\users\\hp\\anaconda3\\lib\\site-packages (from openai) (4.65.0)\n",
      "Requirement already satisfied: aiohttp in c:\\users\\hp\\anaconda3\\lib\\site-packages (from openai) (3.8.5)\n",
      "Requirement already satisfied: charset-normalizer<4,>=2 in c:\\users\\hp\\anaconda3\\lib\\site-packages (from requests>=2.20->openai) (2.0.4)\n",
      "Requirement already satisfied: idna<4,>=2.5 in c:\\users\\hp\\anaconda3\\lib\\site-packages (from requests>=2.20->openai) (3.4)\n",
      "Requirement already satisfied: urllib3<3,>=1.21.1 in c:\\users\\hp\\anaconda3\\lib\\site-packages (from requests>=2.20->openai) (1.26.16)\n",
      "Requirement already satisfied: certifi>=2017.4.17 in c:\\users\\hp\\anaconda3\\lib\\site-packages (from requests>=2.20->openai) (2023.7.22)\n",
      "Requirement already satisfied: attrs>=17.3.0 in c:\\users\\hp\\anaconda3\\lib\\site-packages (from aiohttp->openai) (22.1.0)\n",
      "Requirement already satisfied: multidict<7.0,>=4.5 in c:\\users\\hp\\anaconda3\\lib\\site-packages (from aiohttp->openai) (6.0.2)\n",
      "Requirement already satisfied: async-timeout<5.0,>=4.0.0a3 in c:\\users\\hp\\anaconda3\\lib\\site-packages (from aiohttp->openai) (4.0.2)\n",
      "Requirement already satisfied: yarl<2.0,>=1.0 in c:\\users\\hp\\anaconda3\\lib\\site-packages (from aiohttp->openai) (1.8.1)\n",
      "Requirement already satisfied: frozenlist>=1.1.1 in c:\\users\\hp\\anaconda3\\lib\\site-packages (from aiohttp->openai) (1.3.3)\n",
      "Requirement already satisfied: aiosignal>=1.1.2 in c:\\users\\hp\\anaconda3\\lib\\site-packages (from aiohttp->openai) (1.2.0)\n",
      "Requirement already satisfied: colorama in c:\\users\\hp\\anaconda3\\lib\\site-packages (from tqdm->openai) (0.4.6)\n",
      "Note: you may need to restart the kernel to use updated packages.\n"
     ]
    }
   ],
   "source": [
    "pip install openai\n"
   ]
  },
  {
   "cell_type": "code",
   "execution_count": 5,
   "id": "d760fe84",
   "metadata": {},
   "outputs": [
    {
     "name": "stdout",
     "output_type": "stream",
     "text": [
      "{\n",
      "  \"text\": \"Paralysis is a medical condition that can severely affect a person's life. It is physically debilitating and often needs the person being taken care of, even the simplest of tasks. These studies that we presented strongly suggest that neural networks may be the key in cracking the neural code. That is to say that neural networks offer us greater insight to the underpinnings of the brain, through its effective prediction of the neural activity, to reducing the calibration period of a brain-computer interface, and its highly successful neural decoding process. All of these are vital components that neural networks bring to the table in sustainably treating paralysis patients. Thank you all for listening to this presentation.\"\n",
      "}\n"
     ]
    }
   ],
   "source": [
    "import json\n",
    "import openai\n",
    "\n",
    "# Load api key from the config file\n",
    "with open('C://Users//HP//OneDrive//Documents//OneDrive//Desktop//Audio//config.json', 'r') as config_file:\n",
    "    config_data = json.load(config_file)\n",
    "\n",
    "openai.api_key = config_data.get(\"API_KEY\")\n",
    "audio_file= open(\"C://Users//HP//OneDrive//Documents//OneDrive//Desktop//Audio//paralysis.m4a\", \"rb\")\n",
    "transcript = openai.Audio.transcribe(\"whisper-1\", audio_file)\n",
    "print(transcript)"
   ]
  },
  {
   "cell_type": "code",
   "execution_count": 1,
   "id": "6940703b",
   "metadata": {
    "scrolled": true
   },
   "outputs": [
    {
     "name": "stdout",
     "output_type": "stream",
     "text": [
      "For this aspect of the presentation, I will be talking about Artificial Neural Networks and the Effective Prediction of the Neural Activity. Now, you might be asking yourself, Jeanmarc, why is predicting the neural activity an important aspect? Now, imagine going on a road trip, right? You're going to this new environment, new people, new food. There's a new atmosphere overall, right? Perhaps one of the most important things that you could have is a map, right? Because with a map, you're able to have a better understanding of what you're observing. You have a sense of direction, and it's just practical, right? These are the things that neural networks bring forth when exploring the neural activity, right? So Glaser et al. discovered that neural networks provide better quantitative and qualitative performance results compared to that of the traditional tools used to analyze the neural activity, right? And these traditional tools are more commonly, are more common tools are the linear and the Kalman filters, right? And here in figure one, we see that it has, it consists of the graphs, and it's depicting, each of these graphs is depicting the predictive accuracies of the neural networks compared to that of the traditional tools, linear and Kalman filters, right? And these studies were done over three different brain regions, the motor cortex, the somatosensory cortex, and hippocampus, all of which are important for movement and coordination, right? And in each of these graphs, we see where the neural networks, which are more so over on the right-hand side of the graph, dramatically outperforms the linear and the Kalman filters, which are over here on the left-hand side of the graph, right? So overall, the neural networks have a more, it's a predictive model, and it's much more comprehensive than these common tools that we've been using in analyzing neural activity, right? A study actually by Gucci and Van Verven in 2020, it stated that it gave us the reason why neural networks achieve such high predictive performance, and it's because they are able to associate the dependencies or correlations that exist between variables. I know it's a lot. Let me explain that to you. So these variables that we're talking about are the factors that are involved in creating or stimulating a motor response. So for example, if you shine a light in your eyes, you realize the pupils, the black parts of your eyes, are going to decrease, right? Are decreasing in size. And that's because this external factor, this external variable, the light, is causing some physical change. Your pupil's getting smaller. And that physical change occurs by processes that occur internally within our bodies that affect that change, right? And these are neurons that are sent to our eyes to say, hey, it's smaller, right? So these are the variables that I'm talking about. By doing that, neural networks actually become categorized as being able to learn from data, just by the mere fact that they're capable of doing that.\n"
     ]
    }
   ],
   "source": [
    "import json\n",
    "import openai\n",
    "\n",
    "# Load api key from the config file\n",
    "with open('C://Users//HP//OneDrive//Documents//OneDrive//Desktop//Audio//config.json', 'r') as config_file:\n",
    "    config_data = json.load(config_file)\n",
    "\n",
    "openai.api_key = config_data.get(\"API_KEY\")\n",
    "audio_file= open(\"C://Users//HP//OneDrive//Documents//OneDrive//Desktop//Audio//predicting-neural-activity.m4a\", \"rb\")\n",
    "transcript = openai.Audio.transcribe(\"whisper-1\", audio_file,prompt=\"Jonmarc\")\n",
    "print(transcript.text)"
   ]
  },
  {
   "cell_type": "code",
   "execution_count": 1,
   "id": "e461ac60",
   "metadata": {},
   "outputs": [
    {
     "name": "stdout",
     "output_type": "stream",
     "text": [
      "Collecting reportlabNote: you may need to restart the kernel to use updated packages.\n",
      "\n",
      "  Obtaining dependency information for reportlab from https://files.pythonhosted.org/packages/7e/4b/f1d01a4e2712310ebb4715d38d01c5c72ce0fe27cc4540b9c1fd54a6d1df/reportlab-4.0.6-py3-none-any.whl.metadata\n",
      "  Downloading reportlab-4.0.6-py3-none-any.whl.metadata (1.3 kB)\n",
      "Requirement already satisfied: pillow>=9.0.0 in c:\\users\\hp\\anaconda3\\lib\\site-packages (from reportlab) (9.4.0)\n",
      "Downloading reportlab-4.0.6-py3-none-any.whl (1.9 MB)\n",
      "   ---------------------------------------- 0.0/1.9 MB ? eta -:--:--\n",
      "   ---------------------------------------- 0.0/1.9 MB ? eta -:--:--\n",
      "   ---------------------------------------- 0.0/1.9 MB ? eta -:--:--\n",
      "   ---------------------------------------- 0.0/1.9 MB ? eta -:--:--\n",
      "    --------------------------------------- 0.0/1.9 MB 330.3 kB/s eta 0:00:06\n",
      "   - -------------------------------------- 0.1/1.9 MB 363.1 kB/s eta 0:00:06\n",
      "   --- ------------------------------------ 0.2/1.9 MB 756.6 kB/s eta 0:00:03\n",
      "   ----- ---------------------------------- 0.3/1.9 MB 983.0 kB/s eta 0:00:02\n",
      "   ------ --------------------------------- 0.3/1.9 MB 1.0 MB/s eta 0:00:02\n",
      "   ------- -------------------------------- 0.4/1.9 MB 1.0 MB/s eta 0:00:02\n",
      "   --------- ------------------------------ 0.5/1.9 MB 1.1 MB/s eta 0:00:02\n",
      "   --------- ------------------------------ 0.5/1.9 MB 1.1 MB/s eta 0:00:02\n",
      "   ---------- ----------------------------- 0.5/1.9 MB 1.1 MB/s eta 0:00:02\n",
      "   ----------- ---------------------------- 0.6/1.9 MB 1.1 MB/s eta 0:00:02\n",
      "   ----------- ---------------------------- 0.6/1.9 MB 1.0 MB/s eta 0:00:02\n",
      "   ----------- ---------------------------- 0.6/1.9 MB 1.0 MB/s eta 0:00:02\n",
      "   ----------- ---------------------------- 0.6/1.9 MB 1.0 MB/s eta 0:00:02\n",
      "   ----------- ---------------------------- 0.6/1.9 MB 1.0 MB/s eta 0:00:02\n",
      "   ----------- ---------------------------- 0.6/1.9 MB 1.0 MB/s eta 0:00:02\n",
      "   ----------- ---------------------------- 0.6/1.9 MB 1.0 MB/s eta 0:00:02\n",
      "   ----------- ---------------------------- 0.6/1.9 MB 1.0 MB/s eta 0:00:02\n",
      "   ----------- ---------------------------- 0.6/1.9 MB 1.0 MB/s eta 0:00:02\n",
      "   ----------- ---------------------------- 0.6/1.9 MB 1.0 MB/s eta 0:00:02\n",
      "   ----------- ---------------------------- 0.6/1.9 MB 1.0 MB/s eta 0:00:02\n",
      "   ------------ --------------------------- 0.6/1.9 MB 547.7 kB/s eta 0:00:03\n",
      "   ------------ --------------------------- 0.6/1.9 MB 542.9 kB/s eta 0:00:03\n",
      "   ------------ --------------------------- 0.6/1.9 MB 554.0 kB/s eta 0:00:03\n",
      "   ------------- -------------------------- 0.7/1.9 MB 559.2 kB/s eta 0:00:03\n",
      "   -------------- ------------------------- 0.7/1.9 MB 562.8 kB/s eta 0:00:03\n",
      "   -------------- ------------------------- 0.7/1.9 MB 566.2 kB/s eta 0:00:03\n",
      "   --------------- ------------------------ 0.7/1.9 MB 568.5 kB/s eta 0:00:03\n",
      "   ---------------- ----------------------- 0.8/1.9 MB 571.4 kB/s eta 0:00:03\n",
      "   ---------------- ----------------------- 0.8/1.9 MB 566.8 kB/s eta 0:00:03\n",
      "   ----------------- ---------------------- 0.8/1.9 MB 576.1 kB/s eta 0:00:02\n",
      "   ----------------- ---------------------- 0.8/1.9 MB 577.9 kB/s eta 0:00:02\n",
      "   ------------------ --------------------- 0.9/1.9 MB 574.1 kB/s eta 0:00:02\n",
      "   ------------------ --------------------- 0.9/1.9 MB 574.1 kB/s eta 0:00:02\n",
      "   ------------------- -------------------- 0.9/1.9 MB 578.2 kB/s eta 0:00:02\n",
      "   ------------------- -------------------- 1.0/1.9 MB 574.1 kB/s eta 0:00:02\n",
      "   ------------------- -------------------- 1.0/1.9 MB 569.6 kB/s eta 0:00:02\n",
      "   -------------------- ------------------- 1.0/1.9 MB 577.8 kB/s eta 0:00:02\n",
      "   -------------------- ------------------- 1.0/1.9 MB 568.2 kB/s eta 0:00:02\n",
      "   --------------------- ------------------ 1.0/1.9 MB 575.0 kB/s eta 0:00:02\n",
      "   --------------------- ------------------ 1.1/1.9 MB 572.0 kB/s eta 0:00:02\n",
      "   ---------------------- ----------------- 1.1/1.9 MB 573.4 kB/s eta 0:00:02\n",
      "   ---------------------- ----------------- 1.1/1.9 MB 569.5 kB/s eta 0:00:02\n",
      "   ---------------------- ----------------- 1.1/1.9 MB 569.5 kB/s eta 0:00:02\n",
      "   ----------------------- ---------------- 1.1/1.9 MB 568.3 kB/s eta 0:00:02\n",
      "   ------------------------ --------------- 1.2/1.9 MB 565.3 kB/s eta 0:00:02\n",
      "   ------------------------ --------------- 1.2/1.9 MB 561.8 kB/s eta 0:00:02\n",
      "   ------------------------ --------------- 1.2/1.9 MB 559.0 kB/s eta 0:00:02\n",
      "   ------------------------ --------------- 1.2/1.9 MB 555.7 kB/s eta 0:00:02\n",
      "   ------------------------- -------------- 1.2/1.9 MB 557.2 kB/s eta 0:00:02\n",
      "   ------------------------- -------------- 1.3/1.9 MB 555.2 kB/s eta 0:00:02\n",
      "   -------------------------- ------------- 1.3/1.9 MB 556.7 kB/s eta 0:00:02\n",
      "   --------------------------- ------------ 1.3/1.9 MB 554.8 kB/s eta 0:00:02\n",
      "   --------------------------- ------------ 1.3/1.9 MB 556.8 kB/s eta 0:00:02\n",
      "   ---------------------------- ----------- 1.4/1.9 MB 558.1 kB/s eta 0:00:02\n",
      "   ---------------------------- ----------- 1.4/1.9 MB 558.9 kB/s eta 0:00:02\n",
      "   ---------------------------- ----------- 1.4/1.9 MB 558.9 kB/s eta 0:00:02\n",
      "   ---------------------------- ----------- 1.4/1.9 MB 558.9 kB/s eta 0:00:02\n",
      "   ---------------------------- ----------- 1.4/1.9 MB 558.9 kB/s eta 0:00:02\n",
      "   ---------------------------- ----------- 1.4/1.9 MB 526.6 kB/s eta 0:00:02\n",
      "   ---------------------------- ----------- 1.4/1.9 MB 526.6 kB/s eta 0:00:02\n",
      "   ----------------------------- ---------- 1.4/1.9 MB 522.1 kB/s eta 0:00:02\n",
      "   ----------------------------- ---------- 1.4/1.9 MB 513.9 kB/s eta 0:00:02\n",
      "   ----------------------------- ---------- 1.4/1.9 MB 513.9 kB/s eta 0:00:02\n",
      "   ----------------------------- ---------- 1.4/1.9 MB 509.8 kB/s eta 0:00:01\n",
      "   ----------------------------- ---------- 1.4/1.9 MB 509.8 kB/s eta 0:00:01\n",
      "   ----------------------------- ---------- 1.5/1.9 MB 494.1 kB/s eta 0:00:01\n",
      "   ----------------------------- ---------- 1.5/1.9 MB 494.1 kB/s eta 0:00:01\n",
      "   ------------------------------ --------- 1.5/1.9 MB 488.9 kB/s eta 0:00:01\n",
      "   ------------------------------ --------- 1.5/1.9 MB 484.9 kB/s eta 0:00:01\n",
      "   ------------------------------- -------- 1.5/1.9 MB 484.2 kB/s eta 0:00:01\n",
      "   ------------------------------- -------- 1.5/1.9 MB 484.2 kB/s eta 0:00:01\n",
      "   ------------------------------- -------- 1.5/1.9 MB 481.0 kB/s eta 0:00:01\n",
      "   ------------------------------- -------- 1.5/1.9 MB 477.2 kB/s eta 0:00:01\n",
      "   -------------------------------- ------- 1.6/1.9 MB 474.4 kB/s eta 0:00:01\n",
      "   -------------------------------- ------- 1.6/1.9 MB 468.5 kB/s eta 0:00:01\n",
      "   -------------------------------- ------- 1.6/1.9 MB 466.0 kB/s eta 0:00:01\n",
      "   --------------------------------- ------ 1.6/1.9 MB 465.6 kB/s eta 0:00:01\n",
      "   --------------------------------- ------ 1.6/1.9 MB 465.6 kB/s eta 0:00:01\n",
      "   --------------------------------- ------ 1.6/1.9 MB 458.2 kB/s eta 0:00:01\n",
      "   --------------------------------- ------ 1.6/1.9 MB 455.9 kB/s eta 0:00:01\n",
      "   ---------------------------------- ----- 1.7/1.9 MB 452.8 kB/s eta 0:00:01\n",
      "   ---------------------------------- ----- 1.7/1.9 MB 452.8 kB/s eta 0:00:01\n",
      "   ---------------------------------- ----- 1.7/1.9 MB 452.7 kB/s eta 0:00:01\n",
      "   ---------------------------------- ----- 1.7/1.9 MB 452.7 kB/s eta 0:00:01\n",
      "   ----------------------------------- ---- 1.7/1.9 MB 446.9 kB/s eta 0:00:01\n",
      "   ----------------------------------- ---- 1.7/1.9 MB 446.9 kB/s eta 0:00:01\n",
      "   ----------------------------------- ---- 1.7/1.9 MB 438.7 kB/s eta 0:00:01\n",
      "   ----------------------------------- ---- 1.7/1.9 MB 437.0 kB/s eta 0:00:01\n",
      "   ----------------------------------- ---- 1.7/1.9 MB 434.4 kB/s eta 0:00:01\n",
      "   ----------------------------------- ---- 1.7/1.9 MB 434.4 kB/s eta 0:00:01\n",
      "   ------------------------------------ --- 1.8/1.9 MB 428.6 kB/s eta 0:00:01\n",
      "   ------------------------------------ --- 1.8/1.9 MB 422.9 kB/s eta 0:00:01\n",
      "   ------------------------------------ --- 1.8/1.9 MB 423.8 kB/s eta 0:00:01\n",
      "   ------------------------------------ --- 1.8/1.9 MB 422.3 kB/s eta 0:00:01\n",
      "   ------------------------------------- -- 1.8/1.9 MB 420.1 kB/s eta 0:00:01\n",
      "   ------------------------------------- -- 1.8/1.9 MB 420.1 kB/s eta 0:00:01\n",
      "   ------------------------------------- -- 1.8/1.9 MB 417.2 kB/s eta 0:00:01\n",
      "   ------------------------------------- -- 1.8/1.9 MB 415.1 kB/s eta 0:00:01\n",
      "   ------------------------------------- -- 1.8/1.9 MB 415.1 kB/s eta 0:00:01\n",
      "   -------------------------------------- - 1.9/1.9 MB 415.4 kB/s eta 0:00:01\n",
      "   -------------------------------------- - 1.9/1.9 MB 415.4 kB/s eta 0:00:01\n",
      "   -------------------------------------- - 1.9/1.9 MB 411.3 kB/s eta 0:00:01\n",
      "   -------------------------------------- - 1.9/1.9 MB 410.8 kB/s eta 0:00:01\n",
      "   ---------------------------------------  1.9/1.9 MB 409.6 kB/s eta 0:00:01\n",
      "   ---------------------------------------  1.9/1.9 MB 409.6 kB/s eta 0:00:01\n",
      "   ---------------------------------------  1.9/1.9 MB 403.6 kB/s eta 0:00:01\n",
      "   ---------------------------------------  1.9/1.9 MB 403.6 kB/s eta 0:00:01\n",
      "   ---------------------------------------  1.9/1.9 MB 401.3 kB/s eta 0:00:01\n",
      "   ---------------------------------------- 1.9/1.9 MB 399.6 kB/s eta 0:00:00\n",
      "Installing collected packages: reportlab\n",
      "Successfully installed reportlab-4.0.6\n"
     ]
    }
   ],
   "source": [
    "pip install reportlab"
   ]
  },
  {
   "cell_type": "code",
   "execution_count": 9,
   "id": "e09344f1",
   "metadata": {},
   "outputs": [
    {
     "name": "stdout",
     "output_type": "stream",
     "text": [
      "'Paralysis.pdf' created succefully.......\n"
     ]
    }
   ],
   "source": [
    "from reportlab.lib.pagesizes import letter\n",
    "from reportlab.platypus import SimpleDocTemplate, Paragraph\n",
    "from reportlab.lib.styles import getSampleStyleSheet\n",
    "\n",
    "fileName = \"Paralysis.pdf\"\n",
    "document = SimpleDocTemplate(fileName, pagesize=letter)\n",
    "\n",
    "# Set margins (left, right, top, bottom)\n",
    "left_margin = 50\n",
    "right_margin = 50\n",
    "top_margin = 50\n",
    "bottom_margin = 50\n",
    "\n",
    "# Define your content\n",
    "content = []\n",
    "\n",
    "# Sample text\n",
    "sample_text = transcript.text\n",
    "\n",
    "# Create a paragraph style\n",
    "styles = getSampleStyleSheet()\n",
    "paragraph_style = styles['Normal']\n",
    "\n",
    "# Add the text to the content list\n",
    "content.append(Paragraph(sample_text, paragraph_style))\n",
    "\n",
    "# Build the PDF document with margins and borders\n",
    "document.build(content)\n",
    "\n",
    "print(f\"'{fileName}' created succefully.......\")\n",
    "\n",
    "# canvas = Canvas(, pagesize = LETTER)\n",
    "# canvas.drawString(72, 500, transcript.text)\n",
    "# canvas.save()"
   ]
  },
  {
   "cell_type": "code",
   "execution_count": 2,
   "id": "e979bd0f",
   "metadata": {},
   "outputs": [
    {
     "name": "stdout",
     "output_type": "stream",
     "text": [
      "{\n",
      "  \"role\": \"assistant\",\n",
      "  \"content\": \"For this aspect of the presentation, I will be talking about Artificial Neural Networks and the Effective Prediction of Neural Activity. Now, you might be asking yourself, Jonmarc, why is predicting neural activity an important aspect? Now, imagine going on a road trip, right? You're going to a new environment, new people, new food. There's a new atmosphere overall, right? Perhaps one of the most important things you could have is a map, right? Because with a map, you're able to have a better understanding of what you're observing. You have a sense of direction, and it's just practical, right? These are the things that neural networks bring forth when exploring neural activity. So Glaser et al. discovered that neural networks provide better quantitative and qualitative performance results compared to the traditional tools used to analyze neural activity. And these traditional tools are the linear and Kalman filters. In figure one, we see graphs depicting the predictive accuracies of the neural networks compared to those of the traditional tools. These studies were done over three different brain regions: the motor cortex, the somatosensory cortex, and the hippocampus, all of which are important for movement and coordination. In each of these graphs, we can see that neural networks, which are more towards the right-hand side, dramatically outperform the linear and Kalman filters, which are on the left-hand side. So overall, neural networks provide a more comprehensive and accurate predictive model than these commonly used tools in analyzing neural activity. In a study by Gucci and Van Verven in 2020, it was stated that neural networks achieve such high predictive performance because they are able to associate the dependencies or correlations that exist between variables. Let me explain that to you. These variables refer to the factors involved in creating or stimulating a motor response. For example, if you shine a light in your eyes, you will notice your pupils decreasing in size. That's because the external variable, the light, is causing a physical change. This physical change occurs through processes within our bodies that affect the size of the pupils. Neurons are sent to our eyes to indicate the change. These are the variables I am referring to. By doing this, neural networks can be categorized as being able to learn from data, simply based on their ability to do so.\"\n",
      "}\n"
     ]
    }
   ],
   "source": [
    "#Need to test output with given prompts\n",
    "#Test with longer audio\n",
    "#Test with specific medical jargon\n",
    "#Test with patois\n",
    "#Test correction feature with completion api\n",
    "\n",
    "import openai\n",
    "\n",
    "# Load api key from the config file\n",
    "with open('C://Users//HP//OneDrive//Documents//OneDrive//Desktop//Audio//config.json', 'r') as config_file:\n",
    "    config_data = json.load(config_file)\n",
    "\n",
    "openai.api_key = config_data.get(\"API_KEY\")\n",
    "completion = openai.ChatCompletion.create(\n",
    "  model=\"gpt-3.5-turbo\",\n",
    "  messages=[\n",
    "    {\"role\": \"system\", \"content\": \"Replace Jeanmarc with Jonmarc and correct any grammatical errors you see.\"},\n",
    "    {\"role\": \"user\", \"content\": f\"'{transcript.text}'!\"}\n",
    "  ]\n",
    ")\n",
    "\n",
    "print(completion.choices[0].message.content)"
   ]
  },
  {
   "cell_type": "code",
   "execution_count": null,
   "id": "c8d20b8d",
   "metadata": {},
   "outputs": [],
   "source": []
  }
 ],
 "metadata": {
  "kernelspec": {
   "display_name": "Python 3 (ipykernel)",
   "language": "python",
   "name": "python3"
  },
  "language_info": {
   "codemirror_mode": {
    "name": "ipython",
    "version": 3
   },
   "file_extension": ".py",
   "mimetype": "text/x-python",
   "name": "python",
   "nbconvert_exporter": "python",
   "pygments_lexer": "ipython3",
   "version": "3.11.5"
  }
 },
 "nbformat": 4,
 "nbformat_minor": 5
}
