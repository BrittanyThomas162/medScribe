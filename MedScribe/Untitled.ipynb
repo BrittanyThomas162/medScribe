{
 "cells": [
  {
   "cell_type": "code",
   "execution_count": 2,
   "id": "fcc385df",
   "metadata": {},
   "outputs": [],
   "source": [
    "!git remote add Trouble https://github.com/jaydrag7/medical-speech-recognition"
   ]
  },
  {
   "cell_type": "code",
   "execution_count": 3,
   "id": "d127d4fc",
   "metadata": {},
   "outputs": [
    {
     "name": "stdout",
     "output_type": "stream",
     "text": [
      "Trouble\thttps://github.com/jaydrag7/medical-speech-recognition (fetch)\n",
      "Trouble\thttps://github.com/jaydrag7/medical-speech-recognition (push)\n"
     ]
    }
   ],
   "source": [
    "!git remote -v"
   ]
  },
  {
   "cell_type": "code",
   "execution_count": 4,
   "id": "2ee5e4de",
   "metadata": {},
   "outputs": [
    {
     "name": "stdout",
     "output_type": "stream",
     "text": [
      "* Daneeldev\n",
      "  master\n"
     ]
    }
   ],
   "source": [
    "!git branch -a"
   ]
  },
  {
   "cell_type": "code",
   "execution_count": 5,
   "id": "325eb80e",
   "metadata": {},
   "outputs": [
    {
     "name": "stdout",
     "output_type": "stream",
     "text": [
      "* Daneeldev\n",
      "  master\n"
     ]
    }
   ],
   "source": [
    "!git branch\n"
   ]
  },
  {
   "cell_type": "code",
   "execution_count": 6,
   "id": "304a4b25",
   "metadata": {},
   "outputs": [
    {
     "name": "stderr",
     "output_type": "stream",
     "text": [
      "From https://github.com/jaydrag7/medical-speech-recognition\n",
      " * [new branch]      brittanyDev -> Trouble/brittanyDev\n",
      " * [new branch]      master      -> Trouble/master\n",
      "Auto packing the repository in background for optimum performance.\n",
      "See \"git help gc\" for manual housekeeping.\n",
      "warning: There are too many unreachable loose objects; run 'git prune' to remove them.\n"
     ]
    }
   ],
   "source": [
    "!git fetch"
   ]
  },
  {
   "cell_type": "code",
   "execution_count": 8,
   "id": "4ab78c91",
   "metadata": {},
   "outputs": [
    {
     "name": "stderr",
     "output_type": "stream",
     "text": [
      "warning: in the working copy of 'MedScribe/.ipynb_checkpoints/Untitled-checkpoint.ipynb', LF will be replaced by CRLF the next time Git touches it\n",
      "warning: in the working copy of 'MedScribe/Untitled.ipynb', LF will be replaced by CRLF the next time Git touches it\n"
     ]
    }
   ],
   "source": [
    "!git add ."
   ]
  },
  {
   "cell_type": "code",
   "execution_count": 9,
   "id": "3a2b2a98",
   "metadata": {},
   "outputs": [
    {
     "name": "stdout",
     "output_type": "stream",
     "text": [
      "[Daneeldev 3d051e1] Test commit\n",
      " 2 files changed, 129 insertions(+)\n",
      " create mode 100644 MedScribe/.ipynb_checkpoints/Untitled-checkpoint.ipynb\n",
      " create mode 100644 MedScribe/Untitled.ipynb\n"
     ]
    },
    {
     "name": "stderr",
     "output_type": "stream",
     "text": [
      "Auto packing the repository in background for optimum performance.\n",
      "See \"git help gc\" for manual housekeeping.\n",
      "warning: There are too many unreachable loose objects; run 'git prune' to remove them.\n"
     ]
    }
   ],
   "source": [
    "!git commit -m \"Test commit\""
   ]
  },
  {
   "cell_type": "code",
   "execution_count": 10,
   "id": "68b09513",
   "metadata": {},
   "outputs": [
    {
     "name": "stderr",
     "output_type": "stream",
     "text": [
      "fatal: The current branch Daneeldev has no upstream branch.\n",
      "To push the current branch and set the remote as upstream, use\n",
      "\n",
      "    git push --set-upstream Trouble Daneeldev\n",
      "\n",
      "To have this happen automatically for branches without a tracking\n",
      "upstream, see 'push.autoSetupRemote' in 'git help config'.\n",
      "\n"
     ]
    }
   ],
   "source": [
    "!git push"
   ]
  },
  {
   "cell_type": "code",
   "execution_count": 12,
   "id": "3166ecf4",
   "metadata": {},
   "outputs": [
    {
     "name": "stdout",
     "output_type": "stream",
     "text": [
      "branch 'Daneeldev' set up to track 'Trouble/Daneeldev'.\n"
     ]
    },
    {
     "name": "stderr",
     "output_type": "stream",
     "text": [
      "remote: \n",
      "remote: Create a pull request for 'Daneeldev' on GitHub by visiting:        \n",
      "remote:      https://github.com/jaydrag7/medical-speech-recognition/pull/new/Daneeldev        \n",
      "remote: \n",
      "To https://github.com/jaydrag7/medical-speech-recognition\n",
      " * [new branch]      Daneeldev -> Daneeldev\n"
     ]
    }
   ],
   "source": [
    "!git push --set-upstream Trouble Daneeldev"
   ]
  },
  {
   "cell_type": "code",
   "execution_count": 13,
   "id": "86d5af59",
   "metadata": {},
   "outputs": [
    {
     "name": "stdout",
     "output_type": "stream",
     "text": [
      "Nothing new to pack.\n",
      "Already up to date.\n"
     ]
    },
    {
     "name": "stderr",
     "output_type": "stream",
     "text": [
      "Auto packing the repository in background for optimum performance.\n",
      "See \"git help gc\" for manual housekeeping.\n",
      "warning: There are too many unreachable loose objects; run 'git prune' to remove them.\n"
     ]
    }
   ],
   "source": [
    "!git pull "
   ]
  },
  {
   "cell_type": "code",
   "execution_count": 14,
   "id": "64044ddc",
   "metadata": {},
   "outputs": [
    {
     "name": "stderr",
     "output_type": "stream",
     "text": [
      "error: Your local changes to the following files would be overwritten by checkout:\n",
      "\tMedScribe/Untitled.ipynb\n",
      "\tSpeech Recognition Project/speech-recognition-test.ipynb\n",
      "Please commit your changes or stash them before you switch branches.\n",
      "Aborting\n"
     ]
    }
   ],
   "source": [
    "!git checkout master"
   ]
  },
  {
   "cell_type": "code",
   "execution_count": null,
   "id": "0c3cb31a",
   "metadata": {},
   "outputs": [],
   "source": []
  }
 ],
 "metadata": {
  "kernelspec": {
   "display_name": "Python 3 (ipykernel)",
   "language": "python",
   "name": "python3"
  },
  "language_info": {
   "codemirror_mode": {
    "name": "ipython",
    "version": 3
   },
   "file_extension": ".py",
   "mimetype": "text/x-python",
   "name": "python",
   "nbconvert_exporter": "python",
   "pygments_lexer": "ipython3",
   "version": "3.11.5"
  }
 },
 "nbformat": 4,
 "nbformat_minor": 5
}
