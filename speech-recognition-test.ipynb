{
 "cells": [
  {
   "cell_type": "code",
   "execution_count": 4,
   "id": "b6f041a5",
   "metadata": {
    "scrolled": true
   },
   "outputs": [
    {
     "name": "stdout",
     "output_type": "stream",
     "text": [
      "Requirement already satisfied: openai in c:\\users\\hp\\anaconda3\\lib\\site-packages (0.28.1)\n",
      "Requirement already satisfied: requests>=2.20 in c:\\users\\hp\\anaconda3\\lib\\site-packages (from openai) (2.31.0)\n",
      "Requirement already satisfied: tqdm in c:\\users\\hp\\anaconda3\\lib\\site-packages (from openai) (4.65.0)\n",
      "Requirement already satisfied: aiohttp in c:\\users\\hp\\anaconda3\\lib\\site-packages (from openai) (3.8.5)\n",
      "Requirement already satisfied: charset-normalizer<4,>=2 in c:\\users\\hp\\anaconda3\\lib\\site-packages (from requests>=2.20->openai) (2.0.4)\n",
      "Requirement already satisfied: idna<4,>=2.5 in c:\\users\\hp\\anaconda3\\lib\\site-packages (from requests>=2.20->openai) (3.4)\n",
      "Requirement already satisfied: urllib3<3,>=1.21.1 in c:\\users\\hp\\anaconda3\\lib\\site-packages (from requests>=2.20->openai) (1.26.16)\n",
      "Requirement already satisfied: certifi>=2017.4.17 in c:\\users\\hp\\anaconda3\\lib\\site-packages (from requests>=2.20->openai) (2023.7.22)\n",
      "Requirement already satisfied: attrs>=17.3.0 in c:\\users\\hp\\anaconda3\\lib\\site-packages (from aiohttp->openai) (22.1.0)\n",
      "Requirement already satisfied: multidict<7.0,>=4.5 in c:\\users\\hp\\anaconda3\\lib\\site-packages (from aiohttp->openai) (6.0.2)\n",
      "Requirement already satisfied: async-timeout<5.0,>=4.0.0a3 in c:\\users\\hp\\anaconda3\\lib\\site-packages (from aiohttp->openai) (4.0.2)\n",
      "Requirement already satisfied: yarl<2.0,>=1.0 in c:\\users\\hp\\anaconda3\\lib\\site-packages (from aiohttp->openai) (1.8.1)\n",
      "Requirement already satisfied: frozenlist>=1.1.1 in c:\\users\\hp\\anaconda3\\lib\\site-packages (from aiohttp->openai) (1.3.3)\n",
      "Requirement already satisfied: aiosignal>=1.1.2 in c:\\users\\hp\\anaconda3\\lib\\site-packages (from aiohttp->openai) (1.2.0)\n",
      "Requirement already satisfied: colorama in c:\\users\\hp\\anaconda3\\lib\\site-packages (from tqdm->openai) (0.4.6)\n",
      "Note: you may need to restart the kernel to use updated packages.\n"
     ]
    }
   ],
   "source": [
    "pip install openai\n"
   ]
  },
  {
   "cell_type": "code",
   "execution_count": 5,
   "id": "d760fe84",
   "metadata": {
    "scrolled": true
   },
   "outputs": [
    {
     "name": "stdout",
     "output_type": "stream",
     "text": [
      "{\n",
      "  \"text\": \"Paralysis is a medical condition that can severely affect a person's life. It is physically debilitating and often needs the person being taken care of, even the simplest of tasks. These studies that we presented strongly suggest that neural networks may be the key in cracking the neural code. That is to say that neural networks offer us greater insight to the underpinnings of the brain, through its effective prediction of the neural activity, to reducing the calibration period of a brain-computer interface, and its highly successful neural decoding process. All of these are vital components that neural networks bring to the table in sustainably treating paralysis patients. Thank you all for listening to this presentation.\"\n",
      "}\n"
     ]
    }
   ],
   "source": [
    "import json\n",
    "import openai\n",
    "\n",
    "# Load api key from the config file\n",
    "with open('C://Users//HP//OneDrive//Documents//OneDrive//Desktop//Audio//config.json', 'r') as config_file:\n",
    "    config_data = json.load(config_file)\n",
    "\n",
    "openai.api_key = config_data.get(\"API_KEY\")\n",
    "audio_file= open(\"C://Users//HP//OneDrive//Documents//OneDrive//Desktop//Audio//paralysis.m4a\", \"rb\")\n",
    "transcript = openai.Audio.transcribe(\"whisper-1\", audio_file)\n",
    "print(transcript)"
   ]
  },
  {
   "cell_type": "code",
   "execution_count": 4,
   "id": "6940703b",
   "metadata": {
    "scrolled": true
   },
   "outputs": [
    {
     "name": "stdout",
     "output_type": "stream",
     "text": [
      "Patient Name John Doe, Date of Admission November 18, 2001, Medical Record Number 123456987 Diagnosis Mr. Doe was admitted with a diagnosis of paroxysmal nocturnal hemoglobinuria, PNH, a rare-acquired hematopoietic stem cell disorder characterized by the abnormal proliferation of red blood cells, white blood cells, and platelets. He presented symptoms such as hemoglobinuria, fatigue, and intermittent abdominal pain. Treatment The patient has been started on eculizumab, a monoclonal antibody that inhibits complement protein C5, thereby preventing hemolysis and reducing the risk of thrombosis. Additionally, supportive care measures including blood transfusions and pain management have been initiated to manage his symptoms. Progress Notes Mr. Doe's condition remains stable after the initiation of eculizumab therapy. Regular monitoring of his hemoglobin levels and renal function is being conducted. He is being closely monitored for any signs of hemolysis or thrombotic events. The patient is responding well to the treatment and further evaluations are scheduled to assess his response to therapy. Plan Continue with eculizumab therapy and closely monitor the patient's hematological parameters. Provide appropriate supportive care and ensure the patient's comfort. Consult with the hematology team for further management options if needed. Attending Physician Dr. Jane Smith, MBBS\n"
     ]
    }
   ],
   "source": [
    "import json\n",
    "import openai\n",
    "\n",
    "# Load api key from the config file\n",
    "with open('C://Users//HP//OneDrive//Documents//OneDrive//Desktop//Audio//config.json', 'r') as config_file:\n",
    "    config_data = json.load(config_file)\n",
    "\n",
    "openai.api_key = config_data.get(\"API_KEY\")\n",
    "audio_file= open(\"C://Users//HP//OneDrive//Documents//OneDrive//Desktop//Audio//complex-reg.mp3\", \"rb\")\n",
    "form = \"Patient Name:, Date of visit:, Medical Record Number:, Reason for visit:, Examination and Diagnosis:, Treatment:, Plan:, Attending Physician\"\n",
    "transcript = openai.Audio.transcribe(model=\"whisper-1\", \n",
    "                                     file=audio_file,\n",
    "                                    prompt=f\"'{form}'\")\n",
    "print(transcript.text)"
   ]
  },
  {
   "cell_type": "code",
   "execution_count": 1,
   "id": "e461ac60",
   "metadata": {},
   "outputs": [
    {
     "name": "stdout",
     "output_type": "stream",
     "text": [
      "Collecting reportlabNote: you may need to restart the kernel to use updated packages.\n",
      "\n",
      "  Obtaining dependency information for reportlab from https://files.pythonhosted.org/packages/7e/4b/f1d01a4e2712310ebb4715d38d01c5c72ce0fe27cc4540b9c1fd54a6d1df/reportlab-4.0.6-py3-none-any.whl.metadata\n",
      "  Downloading reportlab-4.0.6-py3-none-any.whl.metadata (1.3 kB)\n",
      "Requirement already satisfied: pillow>=9.0.0 in c:\\users\\hp\\anaconda3\\lib\\site-packages (from reportlab) (9.4.0)\n",
      "Downloading reportlab-4.0.6-py3-none-any.whl (1.9 MB)\n",
      "   ---------------------------------------- 0.0/1.9 MB ? eta -:--:--\n",
      "   ---------------------------------------- 0.0/1.9 MB ? eta -:--:--\n",
      "   ---------------------------------------- 0.0/1.9 MB ? eta -:--:--\n",
      "   ---------------------------------------- 0.0/1.9 MB ? eta -:--:--\n",
      "    --------------------------------------- 0.0/1.9 MB 330.3 kB/s eta 0:00:06\n",
      "   - -------------------------------------- 0.1/1.9 MB 363.1 kB/s eta 0:00:06\n",
      "   --- ------------------------------------ 0.2/1.9 MB 756.6 kB/s eta 0:00:03\n",
      "   ----- ---------------------------------- 0.3/1.9 MB 983.0 kB/s eta 0:00:02\n",
      "   ------ --------------------------------- 0.3/1.9 MB 1.0 MB/s eta 0:00:02\n",
      "   ------- -------------------------------- 0.4/1.9 MB 1.0 MB/s eta 0:00:02\n",
      "   --------- ------------------------------ 0.5/1.9 MB 1.1 MB/s eta 0:00:02\n",
      "   --------- ------------------------------ 0.5/1.9 MB 1.1 MB/s eta 0:00:02\n",
      "   ---------- ----------------------------- 0.5/1.9 MB 1.1 MB/s eta 0:00:02\n",
      "   ----------- ---------------------------- 0.6/1.9 MB 1.1 MB/s eta 0:00:02\n",
      "   ----------- ---------------------------- 0.6/1.9 MB 1.0 MB/s eta 0:00:02\n",
      "   ----------- ---------------------------- 0.6/1.9 MB 1.0 MB/s eta 0:00:02\n",
      "   ----------- ---------------------------- 0.6/1.9 MB 1.0 MB/s eta 0:00:02\n",
      "   ----------- ---------------------------- 0.6/1.9 MB 1.0 MB/s eta 0:00:02\n",
      "   ----------- ---------------------------- 0.6/1.9 MB 1.0 MB/s eta 0:00:02\n",
      "   ----------- ---------------------------- 0.6/1.9 MB 1.0 MB/s eta 0:00:02\n",
      "   ----------- ---------------------------- 0.6/1.9 MB 1.0 MB/s eta 0:00:02\n",
      "   ----------- ---------------------------- 0.6/1.9 MB 1.0 MB/s eta 0:00:02\n",
      "   ----------- ---------------------------- 0.6/1.9 MB 1.0 MB/s eta 0:00:02\n",
      "   ----------- ---------------------------- 0.6/1.9 MB 1.0 MB/s eta 0:00:02\n",
      "   ------------ --------------------------- 0.6/1.9 MB 547.7 kB/s eta 0:00:03\n",
      "   ------------ --------------------------- 0.6/1.9 MB 542.9 kB/s eta 0:00:03\n",
      "   ------------ --------------------------- 0.6/1.9 MB 554.0 kB/s eta 0:00:03\n",
      "   ------------- -------------------------- 0.7/1.9 MB 559.2 kB/s eta 0:00:03\n",
      "   -------------- ------------------------- 0.7/1.9 MB 562.8 kB/s eta 0:00:03\n",
      "   -------------- ------------------------- 0.7/1.9 MB 566.2 kB/s eta 0:00:03\n",
      "   --------------- ------------------------ 0.7/1.9 MB 568.5 kB/s eta 0:00:03\n",
      "   ---------------- ----------------------- 0.8/1.9 MB 571.4 kB/s eta 0:00:03\n",
      "   ---------------- ----------------------- 0.8/1.9 MB 566.8 kB/s eta 0:00:03\n",
      "   ----------------- ---------------------- 0.8/1.9 MB 576.1 kB/s eta 0:00:02\n",
      "   ----------------- ---------------------- 0.8/1.9 MB 577.9 kB/s eta 0:00:02\n",
      "   ------------------ --------------------- 0.9/1.9 MB 574.1 kB/s eta 0:00:02\n",
      "   ------------------ --------------------- 0.9/1.9 MB 574.1 kB/s eta 0:00:02\n",
      "   ------------------- -------------------- 0.9/1.9 MB 578.2 kB/s eta 0:00:02\n",
      "   ------------------- -------------------- 1.0/1.9 MB 574.1 kB/s eta 0:00:02\n",
      "   ------------------- -------------------- 1.0/1.9 MB 569.6 kB/s eta 0:00:02\n",
      "   -------------------- ------------------- 1.0/1.9 MB 577.8 kB/s eta 0:00:02\n",
      "   -------------------- ------------------- 1.0/1.9 MB 568.2 kB/s eta 0:00:02\n",
      "   --------------------- ------------------ 1.0/1.9 MB 575.0 kB/s eta 0:00:02\n",
      "   --------------------- ------------------ 1.1/1.9 MB 572.0 kB/s eta 0:00:02\n",
      "   ---------------------- ----------------- 1.1/1.9 MB 573.4 kB/s eta 0:00:02\n",
      "   ---------------------- ----------------- 1.1/1.9 MB 569.5 kB/s eta 0:00:02\n",
      "   ---------------------- ----------------- 1.1/1.9 MB 569.5 kB/s eta 0:00:02\n",
      "   ----------------------- ---------------- 1.1/1.9 MB 568.3 kB/s eta 0:00:02\n",
      "   ------------------------ --------------- 1.2/1.9 MB 565.3 kB/s eta 0:00:02\n",
      "   ------------------------ --------------- 1.2/1.9 MB 561.8 kB/s eta 0:00:02\n",
      "   ------------------------ --------------- 1.2/1.9 MB 559.0 kB/s eta 0:00:02\n",
      "   ------------------------ --------------- 1.2/1.9 MB 555.7 kB/s eta 0:00:02\n",
      "   ------------------------- -------------- 1.2/1.9 MB 557.2 kB/s eta 0:00:02\n",
      "   ------------------------- -------------- 1.3/1.9 MB 555.2 kB/s eta 0:00:02\n",
      "   -------------------------- ------------- 1.3/1.9 MB 556.7 kB/s eta 0:00:02\n",
      "   --------------------------- ------------ 1.3/1.9 MB 554.8 kB/s eta 0:00:02\n",
      "   --------------------------- ------------ 1.3/1.9 MB 556.8 kB/s eta 0:00:02\n",
      "   ---------------------------- ----------- 1.4/1.9 MB 558.1 kB/s eta 0:00:02\n",
      "   ---------------------------- ----------- 1.4/1.9 MB 558.9 kB/s eta 0:00:02\n",
      "   ---------------------------- ----------- 1.4/1.9 MB 558.9 kB/s eta 0:00:02\n",
      "   ---------------------------- ----------- 1.4/1.9 MB 558.9 kB/s eta 0:00:02\n",
      "   ---------------------------- ----------- 1.4/1.9 MB 558.9 kB/s eta 0:00:02\n",
      "   ---------------------------- ----------- 1.4/1.9 MB 526.6 kB/s eta 0:00:02\n",
      "   ---------------------------- ----------- 1.4/1.9 MB 526.6 kB/s eta 0:00:02\n",
      "   ----------------------------- ---------- 1.4/1.9 MB 522.1 kB/s eta 0:00:02\n",
      "   ----------------------------- ---------- 1.4/1.9 MB 513.9 kB/s eta 0:00:02\n",
      "   ----------------------------- ---------- 1.4/1.9 MB 513.9 kB/s eta 0:00:02\n",
      "   ----------------------------- ---------- 1.4/1.9 MB 509.8 kB/s eta 0:00:01\n",
      "   ----------------------------- ---------- 1.4/1.9 MB 509.8 kB/s eta 0:00:01\n",
      "   ----------------------------- ---------- 1.5/1.9 MB 494.1 kB/s eta 0:00:01\n",
      "   ----------------------------- ---------- 1.5/1.9 MB 494.1 kB/s eta 0:00:01\n",
      "   ------------------------------ --------- 1.5/1.9 MB 488.9 kB/s eta 0:00:01\n",
      "   ------------------------------ --------- 1.5/1.9 MB 484.9 kB/s eta 0:00:01\n",
      "   ------------------------------- -------- 1.5/1.9 MB 484.2 kB/s eta 0:00:01\n",
      "   ------------------------------- -------- 1.5/1.9 MB 484.2 kB/s eta 0:00:01\n",
      "   ------------------------------- -------- 1.5/1.9 MB 481.0 kB/s eta 0:00:01\n",
      "   ------------------------------- -------- 1.5/1.9 MB 477.2 kB/s eta 0:00:01\n",
      "   -------------------------------- ------- 1.6/1.9 MB 474.4 kB/s eta 0:00:01\n",
      "   -------------------------------- ------- 1.6/1.9 MB 468.5 kB/s eta 0:00:01\n",
      "   -------------------------------- ------- 1.6/1.9 MB 466.0 kB/s eta 0:00:01\n",
      "   --------------------------------- ------ 1.6/1.9 MB 465.6 kB/s eta 0:00:01\n",
      "   --------------------------------- ------ 1.6/1.9 MB 465.6 kB/s eta 0:00:01\n",
      "   --------------------------------- ------ 1.6/1.9 MB 458.2 kB/s eta 0:00:01\n",
      "   --------------------------------- ------ 1.6/1.9 MB 455.9 kB/s eta 0:00:01\n",
      "   ---------------------------------- ----- 1.7/1.9 MB 452.8 kB/s eta 0:00:01\n",
      "   ---------------------------------- ----- 1.7/1.9 MB 452.8 kB/s eta 0:00:01\n",
      "   ---------------------------------- ----- 1.7/1.9 MB 452.7 kB/s eta 0:00:01\n",
      "   ---------------------------------- ----- 1.7/1.9 MB 452.7 kB/s eta 0:00:01\n",
      "   ----------------------------------- ---- 1.7/1.9 MB 446.9 kB/s eta 0:00:01\n",
      "   ----------------------------------- ---- 1.7/1.9 MB 446.9 kB/s eta 0:00:01\n",
      "   ----------------------------------- ---- 1.7/1.9 MB 438.7 kB/s eta 0:00:01\n",
      "   ----------------------------------- ---- 1.7/1.9 MB 437.0 kB/s eta 0:00:01\n",
      "   ----------------------------------- ---- 1.7/1.9 MB 434.4 kB/s eta 0:00:01\n",
      "   ----------------------------------- ---- 1.7/1.9 MB 434.4 kB/s eta 0:00:01\n",
      "   ------------------------------------ --- 1.8/1.9 MB 428.6 kB/s eta 0:00:01\n",
      "   ------------------------------------ --- 1.8/1.9 MB 422.9 kB/s eta 0:00:01\n",
      "   ------------------------------------ --- 1.8/1.9 MB 423.8 kB/s eta 0:00:01\n",
      "   ------------------------------------ --- 1.8/1.9 MB 422.3 kB/s eta 0:00:01\n",
      "   ------------------------------------- -- 1.8/1.9 MB 420.1 kB/s eta 0:00:01\n",
      "   ------------------------------------- -- 1.8/1.9 MB 420.1 kB/s eta 0:00:01\n",
      "   ------------------------------------- -- 1.8/1.9 MB 417.2 kB/s eta 0:00:01\n",
      "   ------------------------------------- -- 1.8/1.9 MB 415.1 kB/s eta 0:00:01\n",
      "   ------------------------------------- -- 1.8/1.9 MB 415.1 kB/s eta 0:00:01\n",
      "   -------------------------------------- - 1.9/1.9 MB 415.4 kB/s eta 0:00:01\n",
      "   -------------------------------------- - 1.9/1.9 MB 415.4 kB/s eta 0:00:01\n",
      "   -------------------------------------- - 1.9/1.9 MB 411.3 kB/s eta 0:00:01\n",
      "   -------------------------------------- - 1.9/1.9 MB 410.8 kB/s eta 0:00:01\n",
      "   ---------------------------------------  1.9/1.9 MB 409.6 kB/s eta 0:00:01\n",
      "   ---------------------------------------  1.9/1.9 MB 409.6 kB/s eta 0:00:01\n",
      "   ---------------------------------------  1.9/1.9 MB 403.6 kB/s eta 0:00:01\n",
      "   ---------------------------------------  1.9/1.9 MB 403.6 kB/s eta 0:00:01\n",
      "   ---------------------------------------  1.9/1.9 MB 401.3 kB/s eta 0:00:01\n",
      "   ---------------------------------------- 1.9/1.9 MB 399.6 kB/s eta 0:00:00\n",
      "Installing collected packages: reportlab\n",
      "Successfully installed reportlab-4.0.6\n"
     ]
    }
   ],
   "source": [
    "pip install reportlab"
   ]
  },
  {
   "cell_type": "code",
   "execution_count": 5,
   "id": "e979bd0f",
   "metadata": {},
   "outputs": [
    {
     "name": "stdout",
     "output_type": "stream",
     "text": [
      "Patient Name: John Doe<br/><br/>\n",
      "Date of Admission: November 18, 2001<br/><br/>\n",
      "Medical Record Number: 123456987<br/><br/>\n",
      "Diagnosis: Mr. Doe was admitted with a diagnosis of paroxysmal nocturnal hemoglobinuria (PNH), a rare-acquired hematopoietic stem cell disorder characterized by the abnormal proliferation of red blood cells, white blood cells, and platelets. He presented symptoms such as hemoglobinuria, fatigue, and intermittent abdominal pain.<br/><br/>\n",
      "Treatment: The patient has been started on eculizumab, a monoclonal antibody that inhibits complement protein C5, thereby preventing hemolysis and reducing the risk of thrombosis. Additionally, supportive care measures including blood transfusions and pain management have been initiated to manage his symptoms.<br/><br/>\n",
      "Progress Notes: Mr. Doe's condition remains stable after the initiation of eculizumab therapy. Regular monitoring of his hemoglobin levels and renal function is being conducted. He is being closely monitored for any signs of hemolysis or thrombotic events. The patient is responding well to the treatment and further evaluations are scheduled to assess his response to therapy.<br/><br/>\n",
      "Plan: Continue with eculizumab therapy and closely monitor the patient's hematological parameters. Provide appropriate supportive care and ensure the patient's comfort. Consult with the hematology team for further management options if needed.<br/><br/>\n",
      "Attending Physician: Dr. Jane Smith, MBBS<br/><br/>\n"
     ]
    }
   ],
   "source": [
    "#Need to test output with given prompts\n",
    "#Test with longer audio\n",
    "#Test with specific medical jargon\n",
    "#Test with patois\n",
    "#Test correction feature with completion api\n",
    "\n",
    "import openai\n",
    "import json\n",
    "\n",
    "# Load api key from the config file\n",
    "with open('C://Users//HP//OneDrive//Documents//OneDrive//Desktop//Audio//config.json', 'r') as config_file:\n",
    "    config_data = json.load(config_file)\n",
    "\n",
    "openai.api_key = config_data.get(\"API_KEY\")\n",
    "completion = openai.ChatCompletion.create(\n",
    "  model=\"gpt-4\",\n",
    "  messages=[\n",
    "    {\"role\": \"system\", \"content\": \"You are a text formatter for medical documents. Whenever you see the following: Patient Name:, Date of visit:, Medical Record Number:, Reason for visit:, Examination and Diagnosis:, Treatment:, Plan:, Attending Physician create a new line with the associated information for each. Also, insert '<br/><br/>':\\n\\n at the end of each paragraph to represent a new line and correct any grammatical errors you see.\"},\n",
    "    {\"role\": \"user\", \"content\": f\"'{transcript.text}'\"}\n",
    "  ]\n",
    ")\n",
    "patientReport = completion.choices[0].message.content\n",
    "print(patientReport)"
   ]
  },
  {
   "cell_type": "code",
   "execution_count": 6,
   "id": "e09344f1",
   "metadata": {},
   "outputs": [
    {
     "name": "stdout",
     "output_type": "stream",
     "text": [
      "'Paralysis3-complex-reg.pdf' created succefully.......\n"
     ]
    }
   ],
   "source": [
    "from reportlab.lib.pagesizes import letter\n",
    "from reportlab.platypus import SimpleDocTemplate, Paragraph\n",
    "from reportlab.lib.styles import getSampleStyleSheet\n",
    "\n",
    "fileName = \"Paralysis3-complex-reg.pdf\"\n",
    "document = SimpleDocTemplate(fileName, pagesize=letter)\n",
    "\n",
    "# Set margins (left, right, top, bottom)\n",
    "left_margin = 50\n",
    "right_margin = 50\n",
    "top_margin = 50\n",
    "bottom_margin = 50\n",
    "\n",
    "# Define your content\n",
    "content = []\n",
    "\n",
    "sample_text = patientReport\n",
    "# sample_text = \"Patient Name: Lisa Brown<br/>\"\\\n",
    "#               \"Date of Visit: November 6, 2023<br/>\"\\\n",
    "#               \"Medical Record Number: 54321-0987<br/><br/>\"\\\n",
    "#               \"Reason for visit: Ms. Brown visited the clinic today with complaints of a persistent cough, sore throat, and nasal congestion. She mentioned that she has been experiencing these symptoms for the past week and they seem to be worsening.<br/><br/>\"\\\n",
    "#               \"Examination and Diagnosis: Upon examination, Ms. Brown showed signs of an upper respiratory tract infection. Her throat was red and inflamed, with significant nasal congestion. Based on her symptoms and clinical presentation, she has been diagnosed with acute viral pharyngitis, which is a common infection causing throat inflammation.<br/><br/>\"\\\n",
    "#               \"Treatment: Ms. Brown has been advised to rest, stay hydrated, and gargle with warm salt water to alleviate throat discomfort. Over-the-counter pain relievers and throat lozenges have been recommended for symptomatic relief. Antibiotics were not prescribed as the infection is viral in nature.<br/><br/>\"\\\n",
    "#               \"Plan: The patient was instructed to monitor her symptoms and determine if they worsen, or if she develops a high fever. She was also advised to avoid close contact with others to prevent the spreading of the infection. A sick note was provided for her employer, recommending a few days off work to facilitate recovery.<br/><br/>\"\\\n",
    "#               \"Attending Physician: Dr. Sarah Johnson, MD\"\n",
    "\n",
    "\n",
    "# Create a paragraph style\n",
    "styles = getSampleStyleSheet()\n",
    "paragraph_style = styles['Normal']\n",
    "\n",
    "# Add the text to the content list\n",
    "content.append(Paragraph(sample_text, paragraph_style))\n",
    "\n",
    "# Build the PDF document with margins and borders\n",
    "document.build(content)\n",
    "\n",
    "print(f\"'{fileName}' created succefully.......\")\n",
    "\n",
    "# canvas = Canvas(, pagesize = LETTER)\n",
    "# canvas.drawString(72, 500, transcript.text)\n",
    "# canvas.save()"
   ]
  },
  {
   "cell_type": "code",
   "execution_count": 7,
   "id": "49e85576",
   "metadata": {},
   "outputs": [
    {
     "name": "stdout",
     "output_type": "stream",
     "text": [
      "On branch master\n",
      "Your branch is up to date with 'origin/master'.\n",
      "\n",
      "Changes not staged for commit:\n",
      "  (use \"git add <file>...\" to update what will be committed)\n",
      "  (use \"git restore <file>...\" to discard changes in working directory)\n",
      "\tmodified:   .ipynb_checkpoints/speech-recognition-test-checkpoint.ipynb\n",
      "\tmodified:   speech-recognition-test.ipynb\n",
      "\n",
      "Untracked files:\n",
      "  (use \"git add <file>...\" to include in what will be committed)\n",
      "\tParalysis3-intermediate-reg.pdf\n",
      "\tParalysis4-complex-reg.pdf\n",
      "\n",
      "no changes added to commit (use \"git add\" and/or \"git commit -a\")\n"
     ]
    }
   ],
   "source": [
    "!git status"
   ]
  }
 ],
 "metadata": {
  "kernelspec": {
   "display_name": "Python 3 (ipykernel)",
   "language": "python",
   "name": "python3"
  },
  "language_info": {
   "codemirror_mode": {
    "name": "ipython",
    "version": 3
   },
   "file_extension": ".py",
   "mimetype": "text/x-python",
   "name": "python",
   "nbconvert_exporter": "python",
   "pygments_lexer": "ipython3",
   "version": "3.11.5"
  }
 },
 "nbformat": 4,
 "nbformat_minor": 5
}
